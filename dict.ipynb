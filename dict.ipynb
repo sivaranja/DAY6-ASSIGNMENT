{
  "nbformat": 4,
  "nbformat_minor": 0,
  "metadata": {
    "colab": {
      "name": "dict.ipynb",
      "provenance": []
    },
    "kernelspec": {
      "name": "python3",
      "display_name": "Python 3"
    }
  },
  "cells": [
    {
      "cell_type": "markdown",
      "metadata": {
        "id": "fR6xMDUF9hij",
        "colab_type": "text"
      },
      "source": [
        "##DAY6 ASSIGNMENT\n",
        "\n",
        "\n",
        "CONVERT TO A DICTIONARY IN ONE LINE CODE USING LIST COMPREHENSION(without using zip method)"
      ]
    },
    {
      "cell_type": "code",
      "metadata": {
        "id": "ls25ykwT-DUm",
        "colab_type": "code",
        "colab": {
          "base_uri": "https://localhost:8080/",
          "height": 34
        },
        "outputId": "f8811148-5d64-4dba-802d-ed30c64c2165"
      },
      "source": [
        "list1=[1,2,3,4,5,7,8]\n",
        "list2=[\"a\",\"b\",\"c\",\"d\",\"e\"]\n",
        "mydict={list1[i]:list2[i] for i in range(len(list2))}\n",
        "print(mydict)"
      ],
      "execution_count": 3,
      "outputs": [
        {
          "output_type": "stream",
          "text": [
            "{1: 'a', 2: 'b', 3: 'c', 4: 'd', 5: 'e'}\n"
          ],
          "name": "stdout"
        }
      ]
    },
    {
      "cell_type": "code",
      "metadata": {
        "id": "_pBkJlzMFa49",
        "colab_type": "code",
        "colab": {}
      },
      "source": [
        ""
      ],
      "execution_count": 1,
      "outputs": []
    }
  ]
}